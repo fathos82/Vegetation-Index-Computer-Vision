{
 "cells": [
  {
   "cell_type": "markdown",
   "id": "61c0c224-cf8b-43e9-9f06-af737a413e9b",
   "metadata": {},
   "source": [
    "#"
   ]
  },
  {
   "cell_type": "code",
   "execution_count": 10,
   "id": "8a160de28f1bdb99",
   "metadata": {
    "ExecuteTime": {
     "end_time": "2024-05-22T19:38:02.999971300Z",
     "start_time": "2024-05-22T19:38:02.504675400Z"
    },
    "collapsed": false,
    "jupyter": {
     "outputs_hidden": false
    }
   },
   "outputs": [],
   "source": [
    "# Imports\n",
    "from matplotlib import pyplot as plt\n",
    "from ipywidgets import widgets, interact, Output\n",
    "import numpy as np\n",
    "import cv2"
   ]
  },
  {
   "cell_type": "markdown",
   "id": "ab23aa7f-70bc-4247-99dd-aa736bac9fe7",
   "metadata": {},
   "source": [
    "# Introdução\n",
    "\"\r\n",
    "# Análise de Índices de Vegetação usando Visão Computacional\r\n",
    "\r\n",
    "Este notebook tem como objetivo demonstrar a aplicação de diferentes índices de vegetação utilizando técnicas de visão computacional. \r\n",
    "Índices de vegetação são ferramentas importantes na análise de imagens de satélite e fotografias aéreas, permitindo avaliar a saúde e a cobertura da vegetação em uma área específica.\r\n",
    "\r\n",
    "## Índices de Vegetação\r\n",
    "\r\n",
    "Os índices de vegetação são usados para destacar a presença e a saúde das plantas em uma imagem. Eles são calculados a partir das características espectrais das plantas, geralmente usando combinações de bandas de cores específicas (como vermelho, verde e azul)."
   ]
  },
  {
   "cell_type": "code",
   "execution_count": 2,
   "id": "e89945b299e2792b",
   "metadata": {
    "ExecuteTime": {
     "end_time": "2024-05-22T19:38:04.510169900Z",
     "start_time": "2024-05-22T19:38:04.503184900Z"
    },
    "collapsed": false,
    "jupyter": {
     "outputs_hidden": false
    }
   },
   "outputs": [],
   "source": [
    "\n",
    "# Lista de caminhos de imagens\n",
    "image_paths = [\n",
    "    'resources/plantas/00b65fe8-cee1-4b68-8ef4-1211814f2845___FAM_B.Msls 3990.jpg',\n",
    "    'resources/plantas/0001_0170.JPG',\n",
    "    'resources/plantas/Carpetweeds_1_jpg.rf.fc96c9fa4b5795aa2e8f78a01efdd765.jpg',\n",
    "    'resources/plantas/Carpetweeds_2_jpg.rf.5417b1fa31d007d091455a2a71196982.jpg',\n",
    "    'resources/plantas/Carpetweeds_3_jpg.rf.9a02a47249dbd9dbd31c72d0ec5ddc3e.jpg',\n",
    "    'resources/plantas/Carpetweeds_4_jpg.rf.d6728bff8e3fef49365f6e47066c2c49.jpg',\n",
    "    'resources/plantas/Carpetweeds_5_jpg.rf.464c81bd4ec00641e45cb47e6c973352.jpg',\n",
    "    'resources/plantas/Carpetweeds_7_jpg.rf.83d51a7467d08de020b67c59e81867c0.jpg',\n",
    "    'resources/plantas/Carpetweeds_8_jpg.rf.24eefba4db8a94481c781e599cf6ef0d.jpg',\n",
    "    'resources/plantas/images (9).jpg',\n",
    "    'resources/plantas/transferir (10).jpg'\n",
    "]"
   ]
  },
  {
   "cell_type": "markdown",
   "id": "b84c3d94-048d-4e3b-9e36-f107dd12385c",
   "metadata": {},
   "source": [
    "### Índices Utilizados\r\n",
    "\r\n",
    "Neste notebook, utilizamos vários índices de vegetação:\r\n",
    "\r\n",
    "- **Excess Green (ExG):** Realça a cor verde na imagem, usada para destacar a vegetação.\r\n",
    "- **Normalized Difference Index (NDI):** Calcula a diferença normalizada entre o verde e o vermelho.\r\n",
    "- **Excess Red (ExR):** Realça a cor vermelha na imagem, usada para destacar a vegetação saudável.\r\n",
    "- **ExG - ExR:** Diferença entre os índices ExG e ExR."
   ]
  },
  {
   "cell_type": "code",
   "execution_count": 60,
   "id": "f82c67906644daa2",
   "metadata": {
    "ExecuteTime": {
     "end_time": "2024-05-22T19:38:06.274973400Z",
     "start_time": "2024-05-22T19:38:06.249893500Z"
    },
    "collapsed": false,
    "jupyter": {
     "outputs_hidden": false
    }
   },
   "outputs": [],
   "source": [
    "from enum import Enum\n",
    "\n",
    "\n",
    "# Definir a enumeração dos tipos de índices\n",
    "class IndiceTypes(Enum):\n",
    "    VEG_ExG = 1\n",
    "    VEG_ExR = 2\n",
    "    VEG_ExG_MINUS_EXR = 3\n",
    "\n",
    "# Função para aplicar o índice de vegetação\n",
    "def apply_indice(image, type: IndiceTypes):\n",
    "    R, G, B = cv2.split(image)\n",
    "    match type:\n",
    "        case IndiceTypes.VEG_ExG:\n",
    "            return 2 * G - R - B\n",
    "        case IndiceTypes.VEG_ExR:\n",
    "            return 1.4 * R - G\n",
    "        case IndiceTypes.VEG_ExG_MINUS_EXR:\n",
    "            ExG = 2 * G - R - B\n",
    "            ExR = 1.4 * R - G\n",
    "            return ExG - ExR\n",
    "\n"
   ]
  },
  {
   "cell_type": "code",
   "execution_count": 58,
   "id": "4e7a5839f16948d7",
   "metadata": {
    "ExecuteTime": {
     "end_time": "2024-05-22T19:39:51.170384400Z",
     "start_time": "2024-05-22T19:39:51.153427900Z"
    },
    "collapsed": false,
    "jupyter": {
     "outputs_hidden": false
    }
   },
   "outputs": [],
   "source": [
    "def process(index, indice_type):\n",
    "    img = cv2.imread(image_paths[index])\n",
    "    img = cv2.cvtColor(img, cv2.COLOR_BGR2RGB)\n",
    "    img = cv2.GaussianBlur(img, (5, 5), 0)\n",
    "    img_veg = apply_indice(img, indice_type)\n",
    "    img_veg = cv2.normalize(img_veg, None, 0, 255, cv2.NORM_MINMAX).astype(np.uint8)\n",
    "    _, tresh = cv2.threshold(img_veg, 0, 255, cv2.THRESH_BINARY | cv2.THRESH_OTSU)\n",
    "    contours, _ = cv2.findContours(tresh, cv2.RETR_TREE, cv2.CHAIN_APPROX_SIMPLE)\n",
    "    filtered_contours = [cnt for cnt in contours if 1000 < cv2.contourArea(cnt)]\n",
    "    edges = img.copy()\n",
    "    cv2.drawContours(edges, filtered_contours, -1, (255, 255, 0), 2)\n",
    "\n",
    "    # Exibição das imagens\n",
    "    plt.close()\n",
    "    fig, ax = plt.subplots(1, 4, figsize=(15, 5))\n",
    "    ax[0].imshow(img)\n",
    "    ax[0].set_title('Imagem Original')\n",
    "    ax[0].axis('off')\n",
    "\n",
    "    ax[1].imshow(img_veg, cmap='gray')\n",
    "    ax[1].set_title('Imagem Indexada')\n",
    "    ax[1].axis('off')\n",
    "\n",
    "    ax[2].imshow(tresh, cmap='gray')\n",
    "    ax[2].set_title('Limiar da Imagem')\n",
    "    ax[2].axis('off')\n",
    "\n",
    "    ax[3].imshow(edges)\n",
    "    ax[3].set_title('Detecção de Bordas')\n",
    "    ax[3].axis('off')\n",
    "    plt.show()"
   ]
  },
  {
   "cell_type": "code",
   "execution_count": 59,
   "id": "ddf2032a93ea154f",
   "metadata": {
    "ExecuteTime": {
     "end_time": "2024-05-22T19:40:38.787301800Z",
     "start_time": "2024-05-22T19:40:38.621093100Z"
    },
    "collapsed": false,
    "jupyter": {
     "outputs_hidden": false
    }
   },
   "outputs": [
    {
     "data": {
      "application/vnd.jupyter.widget-view+json": {
       "model_id": "b5f585626e1d4cc3b2b388a114032d29",
       "version_major": 2,
       "version_minor": 0
      },
      "text/plain": [
       "interactive(children=(Dropdown(description='Imagem:', options=(('Imagem 1', 0), ('Imagem 2', 1), ('Imagem 3', …"
      ]
     },
     "metadata": {},
     "output_type": "display_data"
    },
    {
     "data": {
      "text/plain": [
       "<function __main__.<lambda>(index, indice_type)>"
      ]
     },
     "execution_count": 59,
     "metadata": {},
     "output_type": "execute_result"
    }
   ],
   "source": [
    "dropdown_image = widgets.Dropdown(\n",
    "    options=[(f'Imagem {i + 1}', i) for i in range(len(image_paths))],\n",
    "    description='Imagem:',\n",
    "    disabled=False,\n",
    ")\n",
    "\n",
    "dropdown_indice = widgets.Dropdown(\n",
    "    options=[\n",
    "        ('Excess Green (ExG)', IndiceTypes.VEG_ExG),\n",
    "        ('Normalized Difference Index (NDI)', IndiceTypes.VEG_NDI),\n",
    "        ('Excess Red (ExR)', IndiceTypes.VEG_ExR),\n",
    "        ('ExG - ExR', IndiceTypes.VEG_ExG_MINUS_EXR)\n",
    "    ],\n",
    "    description='Índice:',\n",
    "    disabled=False,\n",
    ")\n",
    "\n",
    "# Conectando os dropdowns à função de callback\n",
    "interact(lambda index, indice_type: process(index, indice_type), index=dropdown_image, indice_type=dropdown_indice)"
   ]
  }
 ],
 "metadata": {
  "kernelspec": {
   "display_name": "Python 3 (ipykernel)",
   "language": "python",
   "name": "python3"
  },
  "language_info": {
   "codemirror_mode": {
    "name": "ipython",
    "version": 3
   },
   "file_extension": ".py",
   "mimetype": "text/x-python",
   "name": "python",
   "nbconvert_exporter": "python",
   "pygments_lexer": "ipython3",
   "version": "3.11.1"
  }
 },
 "nbformat": 4,
 "nbformat_minor": 5
}
